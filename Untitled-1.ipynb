{
 "cells": [
  {
   "cell_type": "code",
   "execution_count": 229,
   "metadata": {},
   "outputs": [
    {
     "name": "stdout",
     "output_type": "stream",
     "text": [
      "Dec 2022 Actual\n"
     ]
    },
    {
     "name": "stderr",
     "output_type": "stream",
     "text": [
      "/tmp/ipykernel_23512/1206662292.py:20: FutureWarning: DataFrame.fillna with 'method' is deprecated and will raise in a future version. Use obj.ffill() or obj.bfill() instead.\n",
      "  df.iloc[:, :7] = df.iloc[:, :7].fillna(method='ffill')\n"
     ]
    }
   ],
   "source": [
    "import pandas as pd\n",
    "\n",
    "filename = 'Financials-Hampton-Townhomes-T12-through-11.2023.xlsx'\n",
    "output = 'out.json'\n",
    "header_row_index = 6  # Adjust this based on where the actual data headers start\n",
    "\n",
    "def get_range(cols: list[str]):\n",
    "    ind = -1\n",
    "    cols = cols[1:]\n",
    "    for i in range(len(cols)):\n",
    "        ind = i\n",
    "        if 'Unnamed' not in cols[i]: \n",
    "            break\n",
    "    return ind + 1\n",
    "        \n",
    "\n",
    "df = pd.read_excel(filename,header=header_row_index)\n",
    "ind = get_range(list(df.columns))\n",
    "# print(df.columns[rr])\n",
    "df.iloc[:, :ind] = df.iloc[:, :ind].fillna(method='ffill')\n",
    "df = df[df.map(lambda x: isinstance(x, (int, float)) and pd.notna(x)).any(axis=1)]\n",
    "cols = df.columns[:7]\n",
    "df.set_index(list(cols), inplace=True)\n",
    "df = df.loc[:, ~df.columns.str.contains('^Unnamed')]\n",
    "dic = df.to_dict(orient='index')\n"
   ]
  },
  {
   "cell_type": "code",
   "execution_count": 223,
   "metadata": {},
   "outputs": [
    {
     "data": {
      "text/plain": [
       "0"
      ]
     },
     "execution_count": 223,
     "metadata": {},
     "output_type": "execute_result"
    }
   ],
   "source": [
    "v = 'Unnamed: 1'\n",
    "v.find('Unnamed')"
   ]
  },
  {
   "cell_type": "code",
   "execution_count": 215,
   "metadata": {},
   "outputs": [],
   "source": [
    "import math\n",
    "import json\n",
    "def nest_list(data):\n",
    "    if len(data) == 1:\n",
    "        return data[0]  # Base case: return the last item as the value\n",
    "    return {data[0]: nest_list(data[1:])}\n",
    "def nest(d: dict):\n",
    "    final = []\n",
    "    for _key, val in d.items():\n",
    "        key = list(_key)\n",
    "        key = [item for item in key if not (isinstance(item, float) and math.isnan(item))]\n",
    "        keyval = key + [val]\n",
    "        nested = nest_list(keyval)\n",
    "        final.append(nested)\n",
    "    return final\n",
    "\n",
    "res = nest(dic)\n",
    "with open('out.json', 'w') as fp:\n",
    "    js = json.dumps(res)\n",
    "    fp.write(js)"
   ]
  }
 ],
 "metadata": {
  "kernelspec": {
   "display_name": "venv",
   "language": "python",
   "name": "python3"
  },
  "language_info": {
   "codemirror_mode": {
    "name": "ipython",
    "version": 3
   },
   "file_extension": ".py",
   "mimetype": "text/x-python",
   "name": "python",
   "nbconvert_exporter": "python",
   "pygments_lexer": "ipython3",
   "version": "3.10.12"
  }
 },
 "nbformat": 4,
 "nbformat_minor": 2
}
